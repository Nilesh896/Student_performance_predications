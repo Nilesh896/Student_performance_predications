{
 "cells": [
  {
   "cell_type": "code",
   "execution_count": 2,
   "id": "25d90693-b581-474a-b818-e917c3075619",
   "metadata": {
    "scrolled": true
   },
   "outputs": [
    {
     "name": "stdout",
     "output_type": "stream",
     "text": [
      "Loaded Data: ['Study Preparation']\n",
      "Data Type: <class 'numpy.ndarray'>\n"
     ]
    }
   ],
   "source": [
    "import pickle\n",
    "\n",
    "file_path = r'C:\\Users\\dell\\OneDrive\\Desktop\\jupyter notebook\\StudentPerformanceML\\model\\student_performance_model.pkl'\n",
    "\n",
    "with open(file_path, 'rb') as file:\n",
    "    data = pickle.load(file)\n",
    "\n",
    "print(\"Loaded Data:\", data)\n",
    "print(\"Data Type:\", type(data))\n"
   ]
  },
  {
   "cell_type": "code",
   "execution_count": 10,
   "id": "6f0d4368-b103-4d2f-9b03-3297a21cdb15",
   "metadata": {},
   "outputs": [
    {
     "name": "stdout",
     "output_type": "stream",
     "text": [
      "Python version: 3.12.8 (tags/v3.12.8:2dc476b, Dec  3 2024, 19:30:04) [MSC v.1942 64 bit (AMD64)]\n",
      "NumPy version: 2.2.3\n"
     ]
    }
   ],
   "source": [
    "import numpy as np\n",
    "import pickle\n",
    "import sys\n",
    "\n",
    "print(\"Python version:\", sys.version)\n",
    "print(\"NumPy version:\", np.__version__)\n"
   ]
  },
  {
   "cell_type": "code",
   "execution_count": 13,
   "id": "2b73993f-b182-4410-9df4-fdcff035a602",
   "metadata": {},
   "outputs": [
    {
     "data": {
      "text/plain": [
       "['student_performance_model.pkl']"
      ]
     },
     "execution_count": 13,
     "metadata": {},
     "output_type": "execute_result"
    }
   ],
   "source": [
    "import joblib\n",
    "joblib.dump(model, \"student_performance_model.pkl\")\n"
   ]
  },
  {
   "cell_type": "code",
   "execution_count": null,
   "id": "7fccf53a-fcd9-4799-a7f3-84b5c25a51ab",
   "metadata": {},
   "outputs": [],
   "source": []
  }
 ],
 "metadata": {
  "kernelspec": {
   "display_name": "Python 3 (ipykernel)",
   "language": "python",
   "name": "python3"
  },
  "language_info": {
   "codemirror_mode": {
    "name": "ipython",
    "version": 3
   },
   "file_extension": ".py",
   "mimetype": "text/x-python",
   "name": "python",
   "nbconvert_exporter": "python",
   "pygments_lexer": "ipython3",
   "version": "3.12.8"
  }
 },
 "nbformat": 4,
 "nbformat_minor": 5
}
